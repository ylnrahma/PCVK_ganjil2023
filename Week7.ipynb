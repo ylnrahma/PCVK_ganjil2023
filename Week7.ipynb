{
  "nbformat": 4,
  "nbformat_minor": 0,
  "metadata": {
    "colab": {
      "provenance": [],
      "authorship_tag": "ABX9TyMsXuQoipAyauEpV6KASfpM",
      "include_colab_link": true
    },
    "kernelspec": {
      "name": "python3",
      "display_name": "Python 3"
    },
    "language_info": {
      "name": "python"
    }
  },
  "cells": [
    {
      "cell_type": "markdown",
      "metadata": {
        "id": "view-in-github",
        "colab_type": "text"
      },
      "source": [
        "<a href=\"https://colab.research.google.com/github/ylnrahma/PCVK_ganjil2023/blob/main/Week7.ipynb\" target=\"_parent\"><img src=\"https://colab.research.google.com/assets/colab-badge.svg\" alt=\"Open In Colab\"/></a>"
      ]
    },
    {
      "cell_type": "markdown",
      "source": [
        "# **Laporan Praktikum Pertemuan 7 - Filter Spasial Low Pass Filter, High Pass Filter, Point Detection, Line Detection, Edge Detection**\n",
        "\n",
        "Nama: Yuliyana Rahmawati\n",
        "\n",
        "NIM: 2141720241\n",
        "\n",
        "Kelas: 3BTI"
      ],
      "metadata": {
        "id": "1a9f3zXQYmuk"
      }
    },
    {
      "cell_type": "markdown",
      "source": [
        "### **PRAKTIKUM FILTER**"
      ],
      "metadata": {
        "id": "pbTF25EnZERc"
      }
    },
    {
      "cell_type": "markdown",
      "source": [
        "1. Buatlah fungsi konvolusi menggunakan algoritma yang telah dijelaskan pada Bagian C, tanpa menggunakan library atau metode konvolusi dari OpenCV.\n",
        "\n",
        "\n"
      ],
      "metadata": {
        "id": "yvGwymhgZLmK"
      }
    },
    {
      "cell_type": "markdown",
      "source": [
        "2. Berikut merupakan langkah-langkah yang dapat dilakukan:\n"
      ],
      "metadata": {
        "id": "T6aXLpBVZht6"
      }
    },
    {
      "cell_type": "markdown",
      "source": [
        "\n",
        "*   Buat notebook baru pada google colab, dan beri nama Week7.ipynb. Simpan Salinan pada akun github seperti pada modul sebelumnya.\n",
        "\n"
      ],
      "metadata": {
        "id": "UwNT39GbZnM4"
      }
    },
    {
      "cell_type": "markdown",
      "source": [
        "*   Akses file yang terdapat pada drive dan import beberapa library yang dibutuhkan\n",
        "\n"
      ],
      "metadata": {
        "id": "8qLEux8oZ9Qa"
      }
    },
    {
      "cell_type": "code",
      "source": [
        "from google.colab import drive\n",
        "\n",
        "# Accessing My Google Drive\n",
        "drive.mount('/content/drive')"
      ],
      "metadata": {
        "colab": {
          "base_uri": "https://localhost:8080/"
        },
        "id": "2X8qMJOtaw-T",
        "outputId": "aac87fac-586e-423e-fd03-08dca1acba54"
      },
      "execution_count": 1,
      "outputs": [
        {
          "output_type": "stream",
          "name": "stdout",
          "text": [
            "Mounted at /content/drive\n"
          ]
        }
      ]
    },
    {
      "cell_type": "code",
      "source": [
        "import numpy as np\n",
        "import matplotlib.pyplot as plt\n",
        "import cv2 as cv\n",
        "import math\n",
        "from google.colab.patches import cv2_imshow\n",
        "from PIL import Image as im"
      ],
      "metadata": {
        "id": "9KJRpKTxayGp"
      },
      "execution_count": 2,
      "outputs": []
    },
    {
      "cell_type": "markdown",
      "source": [
        "\n",
        "*   Buatlah fungsi konvolusi. Catatan: parameter yang digunakan boleh dimodifikasi. Misal, hanya menggunakan parameter image dan kernel saja, atau image, kernel, dan padding.\n",
        "\n"
      ],
      "metadata": {
        "id": "w8VcjO9haOKd"
      }
    },
    {
      "cell_type": "markdown",
      "source": [
        "\n",
        "*   Load citra yang akan diproses dan ubah menjadi citra keabuan\n",
        "\n",
        "\n"
      ],
      "metadata": {
        "id": "pDYKHpLsaVmH"
      }
    },
    {
      "cell_type": "markdown",
      "source": [
        "\n",
        "*   Tentukan kernel yang akan digunakan, contohnya kernel untuk filter sharpening sebagai berikut:\n",
        "\n"
      ],
      "metadata": {
        "id": "GdZ92iFXaYKM"
      }
    },
    {
      "cell_type": "markdown",
      "source": [
        "\n",
        "*   Memanggil fungsi konvolusi yang telah dibuat sebelumnya, dan menampilkan hasil konvolusinya:\n",
        "\n",
        "\n"
      ],
      "metadata": {
        "id": "xkTSKer2aeED"
      }
    },
    {
      "cell_type": "markdown",
      "source": [
        "3. Buat Image Filter untuk Average filter, low pass filter, high pass filter, dan beberapa filter berikut:\n",
        "\n"
      ],
      "metadata": {
        "id": "LOJ4nTCGajVh"
      }
    },
    {
      "cell_type": "code",
      "execution_count": null,
      "metadata": {
        "id": "sSpRcIjsXFBh"
      },
      "outputs": [],
      "source": []
    }
  ]
}